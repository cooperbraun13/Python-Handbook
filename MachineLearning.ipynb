{
 "cells": [
  {
   "cell_type": "markdown",
   "id": "40bc9e55",
   "metadata": {},
   "source": [
    "# What is Machine Learning?\n",
    "\n",
    "* Machine learning involves building mathematical models to help understand data\n",
    "* \"Learning\" enters the fray when we give these models _tunable parameters_ that can be adapted to observed data\n",
    "* Once these models have been fit to previously seen data, they can be used to predict and understand aspects of newly observed data\n",
    "\n",
    "## Categories of Machine Learning\n",
    "\n",
    "* Two main types: supervised and unsupervised learning\n",
    "* Supervised learning - models that can predict labels based on labeled training data\n",
    "    * Classification - models that predict labels as two or more discrete categories\n",
    "    * Regression - models that predict continuous labels\n",
    "* Unsupervised learning - models that identify structure in unlabeled data\n",
    "    * Clustering - models that detect and identify distinct groups in the data\n",
    "    * Dimenstionality reduction - models that detect and identify lower-dimensional structure in higher-dimensional data"
   ]
  },
  {
   "cell_type": "markdown",
   "id": "b6a610d7",
   "metadata": {},
   "source": []
  }
 ],
 "metadata": {
  "language_info": {
   "name": "python"
  }
 },
 "nbformat": 4,
 "nbformat_minor": 5
}
